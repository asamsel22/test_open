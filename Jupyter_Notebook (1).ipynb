{
  "metadata": {
    "kernelspec": {
      "name": "python",
      "display_name": "Pyolite",
      "language": "python"
    },
    "language_info": {
      "codemirror_mode": {
        "name": "python",
        "version": 3
      },
      "file_extension": ".py",
      "mimetype": "text/x-python",
      "name": "python",
      "nbconvert_exporter": "python",
      "pygments_lexer": "ipython3",
      "version": "3.8"
    }
  },
  "nbformat_minor": 4,
  "nbformat": 4,
  "cells": [
    {
      "cell_type": "markdown",
      "source": "<center>\n    <img src=\"https://s3-api.us-geo.objectstorage.softlayer.net/cf-courses-data/CognitiveClass/Logos/organization_logo/organization_logo.png\" width=\"300\" alt=\"cognitiveclass.ai logo\"  />\n</center>\n",
      "metadata": {}
    },
    {
      "cell_type": "markdown",
      "source": "#### Add your code below following the instructions given in the course\n",
      "metadata": {}
    },
    {
      "cell_type": "markdown",
      "source": "# My Jupyter Notebook on IBM Watson Studio",
      "metadata": {}
    },
    {
      "cell_type": "markdown",
      "source": "**OLA**\n<br>\nPainter",
      "metadata": {}
    },
    {
      "cell_type": "markdown",
      "source": "*I am interested in data science because it's very usefull in everyday life*",
      "metadata": {}
    },
    {
      "cell_type": "markdown",
      "source": "### My code is printing numbers from 1 to 10, every number is in new line",
      "metadata": {}
    },
    {
      "cell_type": "code",
      "source": "for i in range(1, 11):\n    print(i)",
      "metadata": {
        "trusted": true
      },
      "execution_count": 1,
      "outputs": [
        {
          "name": "stdout",
          "text": "1\n2\n3\n4\n5\n6\n7\n8\n9\n10\n",
          "output_type": "stream"
        }
      ]
    },
    {
      "cell_type": "markdown",
      "source": "#### Bullet list:\n- Item 1\n- Item 2\n- Item 3\n\n#### Simple table\n|Title 1 | Title 2 | Title 3|\n| --- | --- | --- |\n|Item 1.1 | Item 2.1 | Item 3.1|\n|Item 1.2 | Item 2.2 | Item 3.2|\n\n#### Hyperlink\n<a href=\"https://www.coursera.org\">Coursera</a>",
      "metadata": {}
    }
  ]
}